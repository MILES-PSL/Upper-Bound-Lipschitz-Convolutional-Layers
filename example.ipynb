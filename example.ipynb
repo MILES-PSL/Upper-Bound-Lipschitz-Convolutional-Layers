{
 "cells": [
  {
   "cell_type": "code",
   "execution_count": 1,
   "metadata": {},
   "outputs": [],
   "source": [
    "import torch\n",
    "import numpy as np\n",
    "\n",
    "from lipschitz_bound import LipschitzBound"
   ]
  },
  {
   "cell_type": "code",
   "execution_count": 2,
   "metadata": {},
   "outputs": [],
   "source": [
    "kernel_numpy = np.random.randn(1, 3, 3, 3)\n",
    "kernel_torch = torch.FloatTensor(kernel_numpy)"
   ]
  },
  {
   "cell_type": "code",
   "execution_count": 3,
   "metadata": {},
   "outputs": [
    {
     "name": "stdout",
     "output_type": "stream",
     "text": [
      "LipBound computed with numpy: 5.242\n",
      "LipBound computed with torch: 5.242\n"
     ]
    }
   ],
   "source": [
    "lb = LipschitzBound(kernel_numpy.shape, padding=1, sample=50, backend='numpy')\n",
    "sv_bound = lb.compute(kernel_numpy)\n",
    "print(f'LipBound computed with numpy: {sv_bound:.3f}')\n",
    "\n",
    "\n",
    "lb = LipschitzBound(kernel_torch.shape, padding=1, sample=50, backend='torch', cuda=False)\n",
    "sv_bound = lb.compute(kernel_torch)\n",
    "print(f'LipBound computed with torch: {sv_bound:.3f}')"
   ]
  },
  {
   "cell_type": "code",
   "execution_count": null,
   "metadata": {},
   "outputs": [],
   "source": []
  }
 ],
 "metadata": {
  "kernelspec": {
   "display_name": "Python 3",
   "language": "python",
   "name": "python3"
  },
  "language_info": {
   "codemirror_mode": {
    "name": "ipython",
    "version": 3
   },
   "file_extension": ".py",
   "mimetype": "text/x-python",
   "name": "python",
   "nbconvert_exporter": "python",
   "pygments_lexer": "ipython3",
   "version": "3.7.7"
  }
 },
 "nbformat": 4,
 "nbformat_minor": 4
}
